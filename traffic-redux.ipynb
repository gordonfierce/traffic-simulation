{
 "cells": [
  {
   "cell_type": "markdown",
   "metadata": {},
   "source": [
    "# Traffic-Sim: Redux\n",
    "I know waaaay more about everything now, so it's time to see if I can create a better traffic simulation."
   ]
  },
  {
   "cell_type": "code",
   "execution_count": 2,
   "metadata": {
    "collapsed": true
   },
   "outputs": [],
   "source": [
    "import numpy as np"
   ]
  },
  {
   "cell_type": "code",
   "execution_count": 18,
   "metadata": {
    "collapsed": true
   },
   "outputs": [],
   "source": [
    "class TrafficSim():\n",
    "    def __init__(self, num_cars, num_rounds, likelihood_of_slowing, length):\n",
    "        self.positions = np.zeros((num_rounds, num_cars))\n",
    "        self.velocities = np.zeros((num_rounds, num_cars))\n",
    "        self.slowing = np.random.binomial(1, likelihood_of_slowing, (num_rounds, num_cars))\n",
    "        self.time = 0\n",
    "        self.length = length\n",
    "        self.positions[0] = np.linspace(0, length, num_cars)\n",
    "        \n",
    "    \n",
    "    def click_time(self):\n",
    "        \n",
    "        self.time += 1"
   ]
  },
  {
   "cell_type": "code",
   "execution_count": 19,
   "metadata": {
    "collapsed": false
   },
   "outputs": [],
   "source": [
    "sim1 = TrafficSim(3, 10, 0.2, 20)"
   ]
  },
  {
   "cell_type": "code",
   "execution_count": 20,
   "metadata": {
    "collapsed": false
   },
   "outputs": [
    {
     "data": {
      "text/plain": [
       "array([[  0.,  10.,  20.],\n",
       "       [  0.,   0.,   0.],\n",
       "       [  0.,   0.,   0.],\n",
       "       [  0.,   0.,   0.],\n",
       "       [  0.,   0.,   0.],\n",
       "       [  0.,   0.,   0.],\n",
       "       [  0.,   0.,   0.],\n",
       "       [  0.,   0.,   0.],\n",
       "       [  0.,   0.,   0.],\n",
       "       [  0.,   0.,   0.]])"
      ]
     },
     "execution_count": 20,
     "metadata": {},
     "output_type": "execute_result"
    }
   ],
   "source": [
    "sim1.positions"
   ]
  },
  {
   "cell_type": "code",
   "execution_count": 15,
   "metadata": {
    "collapsed": false
   },
   "outputs": [
    {
     "data": {
      "text/plain": [
       "1"
      ]
     },
     "execution_count": 15,
     "metadata": {},
     "output_type": "execute_result"
    }
   ],
   "source": [
    "sim1.time"
   ]
  },
  {
   "cell_type": "code",
   "execution_count": 17,
   "metadata": {
    "collapsed": false
   },
   "outputs": [
    {
     "data": {
      "text/plain": [
       "array([ 0.,  0.,  0.])"
      ]
     },
     "execution_count": 17,
     "metadata": {},
     "output_type": "execute_result"
    }
   ],
   "source": [
    "sim1.positions[0]"
   ]
  },
  {
   "cell_type": "code",
   "execution_count": null,
   "metadata": {
    "collapsed": true
   },
   "outputs": [],
   "source": [
    "class TrafficSim2():\n",
    "    def __init__(self, num_cars, num_rounds, likelihood_of_slowing, length):\n",
    "        self.positions = np.zeros((num_rounds, num_cars))\n",
    "        self.velocities = np.zeros((num_rounds, num_cars))\n",
    "        self.slowing = np.random.binomial(1, likelihood_of_slowing, (num_rounds, num_cars))\n",
    "        self.time = 0\n",
    "        self.length = length\n",
    "        self.positions[0] = np.linspace(0, length, num_cars)\n",
    "        \n",
    "    \n",
    "    def click_time(self):\n",
    "        \n",
    "        self.time += 1"
   ]
  }
 ],
 "metadata": {
  "kernelspec": {
   "display_name": "Python 3",
   "language": "python",
   "name": "python3"
  },
  "language_info": {
   "codemirror_mode": {
    "name": "ipython",
    "version": 3
   },
   "file_extension": ".py",
   "mimetype": "text/x-python",
   "name": "python",
   "nbconvert_exporter": "python",
   "pygments_lexer": "ipython3",
   "version": "3.4.2"
  }
 },
 "nbformat": 4,
 "nbformat_minor": 0
}
